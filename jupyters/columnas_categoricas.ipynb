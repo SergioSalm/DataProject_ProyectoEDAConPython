{
 "cells": [
  {
   "cell_type": "markdown",
   "id": "73dc8450",
   "metadata": {},
   "source": [
    "# Análisis y gestión de nulos de las columnas categoricas"
   ]
  },
  {
   "cell_type": "code",
   "execution_count": null,
   "id": "37df46fa",
   "metadata": {},
   "outputs": [],
   "source": [
    "import pandas as pd\n",
    "import sys\n",
    "sys.path.append(\"..\")\n",
    "from src import sp_analisis as an, sp_visualizacion as vis, sp_limpieza as lim\n",
    "pd.set_option('display.max_columns', None)\n"
   ]
  },
  {
   "cell_type": "code",
   "execution_count": 34,
   "id": "426b719e",
   "metadata": {},
   "outputs": [
    {
     "data": {
      "text/html": [
       "<div>\n",
       "<style scoped>\n",
       "    .dataframe tbody tr th:only-of-type {\n",
       "        vertical-align: middle;\n",
       "    }\n",
       "\n",
       "    .dataframe tbody tr th {\n",
       "        vertical-align: top;\n",
       "    }\n",
       "\n",
       "    .dataframe thead th {\n",
       "        text-align: right;\n",
       "    }\n",
       "</style>\n",
       "<table border=\"1\" class=\"dataframe\">\n",
       "  <thead>\n",
       "    <tr style=\"text-align: right;\">\n",
       "      <th></th>\n",
       "      <th>age</th>\n",
       "      <th>job</th>\n",
       "      <th>marital</th>\n",
       "      <th>education</th>\n",
       "      <th>default</th>\n",
       "      <th>housing</th>\n",
       "      <th>loan</th>\n",
       "      <th>contact</th>\n",
       "      <th>duration</th>\n",
       "      <th>campaign</th>\n",
       "      <th>...</th>\n",
       "      <th>kidhome</th>\n",
       "      <th>teenhome</th>\n",
       "      <th>dt_customer</th>\n",
       "      <th>numwebvisitsmonth</th>\n",
       "      <th>year_bank</th>\n",
       "      <th>month_bank</th>\n",
       "      <th>day_bank</th>\n",
       "      <th>year_customer</th>\n",
       "      <th>month_customer</th>\n",
       "      <th>day_customer</th>\n",
       "    </tr>\n",
       "  </thead>\n",
       "  <tbody>\n",
       "    <tr>\n",
       "      <th>32249</th>\n",
       "      <td>40.0</td>\n",
       "      <td>blue-collar</td>\n",
       "      <td>married</td>\n",
       "      <td>basic.6y</td>\n",
       "      <td>NaN</td>\n",
       "      <td>yes</td>\n",
       "      <td>no</td>\n",
       "      <td>cellular</td>\n",
       "      <td>356</td>\n",
       "      <td>4</td>\n",
       "      <td>...</td>\n",
       "      <td>2</td>\n",
       "      <td>0</td>\n",
       "      <td>2014-10-14</td>\n",
       "      <td>18</td>\n",
       "      <td>2016.0</td>\n",
       "      <td>3.0</td>\n",
       "      <td>sunday</td>\n",
       "      <td>2014</td>\n",
       "      <td>10</td>\n",
       "      <td>tuesday</td>\n",
       "    </tr>\n",
       "  </tbody>\n",
       "</table>\n",
       "<p>1 rows × 34 columns</p>\n",
       "</div>"
      ],
      "text/plain": [
       "        age          job  marital education default housing loan   contact  \\\n",
       "32249  40.0  blue-collar  married  basic.6y     NaN     yes   no  cellular   \n",
       "\n",
       "       duration  campaign  ...  kidhome  teenhome dt_customer  \\\n",
       "32249       356         4  ...        2         0  2014-10-14   \n",
       "\n",
       "       numwebvisitsmonth  year_bank  month_bank  day_bank  year_customer  \\\n",
       "32249                 18     2016.0         3.0    sunday           2014   \n",
       "\n",
       "      month_customer day_customer  \n",
       "32249             10      tuesday  \n",
       "\n",
       "[1 rows x 34 columns]"
      ]
     },
     "execution_count": 34,
     "metadata": {},
     "output_type": "execute_result"
    }
   ],
   "source": [
    "# Leemos el archivo de datos limpio\n",
    "df = pd.read_csv(\"../data/bank-customers.csv\")\n",
    "df.sample()\n"
   ]
  },
  {
   "cell_type": "code",
   "execution_count": 35,
   "id": "0360731f",
   "metadata": {},
   "outputs": [],
   "source": [
    "fecha_formato = {'date':'%Y-%m-%d',\n",
    "                 'dt_customer':'%Y-%m-%d'}\n",
    "\n",
    "lim.convertir_fechas(df, fecha_formato)"
   ]
  },
  {
   "cell_type": "code",
   "execution_count": 23,
   "id": "02250d72",
   "metadata": {},
   "outputs": [
    {
     "name": "stdout",
     "output_type": "stream",
     "text": [
      "<class 'pandas.core.frame.DataFrame'>\n",
      "RangeIndex: 43000 entries, 0 to 42999\n",
      "Data columns (total 34 columns):\n",
      " #   Column             Non-Null Count  Dtype         \n",
      "---  ------             --------------  -----         \n",
      " 0   age                37880 non-null  float64       \n",
      " 1   job                42655 non-null  object        \n",
      " 2   marital            42915 non-null  object        \n",
      " 3   education          41193 non-null  object        \n",
      " 4   default            34019 non-null  object        \n",
      " 5   housing            41974 non-null  object        \n",
      " 6   loan               41974 non-null  object        \n",
      " 7   contact            43000 non-null  object        \n",
      " 8   duration           43000 non-null  int64         \n",
      " 9   campaign           43000 non-null  int64         \n",
      " 10  pdays              43000 non-null  int64         \n",
      " 11  previous           43000 non-null  int64         \n",
      " 12  poutcome           43000 non-null  object        \n",
      " 13  emp_var_rate       43000 non-null  float64       \n",
      " 14  cons_price_idx     42529 non-null  float64       \n",
      " 15  cons_conf_idx      43000 non-null  int64         \n",
      " 16  euribor3m          33744 non-null  float64       \n",
      " 17  nr_employed        43000 non-null  int64         \n",
      " 18  y                  43000 non-null  object        \n",
      " 19  date               42752 non-null  datetime64[ns]\n",
      " 20  latitude           43000 non-null  float64       \n",
      " 21  longitude          43000 non-null  float64       \n",
      " 22  id                 43000 non-null  object        \n",
      " 23  income             43000 non-null  int64         \n",
      " 24  kidhome            43000 non-null  int64         \n",
      " 25  teenhome           43000 non-null  int64         \n",
      " 26  dt_customer        43000 non-null  datetime64[ns]\n",
      " 27  numwebvisitsmonth  43000 non-null  int64         \n",
      " 28  year_bank          42752 non-null  float64       \n",
      " 29  month_bank         42752 non-null  float64       \n",
      " 30  day_bank           42752 non-null  object        \n",
      " 31  year_customer      43000 non-null  int64         \n",
      " 32  month_customer     43000 non-null  int64         \n",
      " 33  day_customer       43000 non-null  object        \n",
      "dtypes: datetime64[ns](2), float64(8), int64(12), object(12)\n",
      "memory usage: 11.2+ MB\n"
     ]
    }
   ],
   "source": [
    "df.info()"
   ]
  },
  {
   "cell_type": "markdown",
   "id": "a620b7b9",
   "metadata": {},
   "source": [
    "## Análisis de las columnas"
   ]
  },
  {
   "cell_type": "code",
   "execution_count": 36,
   "id": "b74c7203",
   "metadata": {},
   "outputs": [
    {
     "name": "stdout",
     "output_type": "stream",
     "text": [
      "Distribución de la columna JOB\n",
      "    12 valores únicos\n"
     ]
    },
    {
     "data": {
      "text/plain": [
       "job\n",
       "admin.           0.254906\n",
       "blue-collar      0.226328\n",
       "technician       0.164717\n",
       "services         0.097574\n",
       "management       0.071504\n",
       "retired          0.041965\n",
       "entrepreneur     0.035682\n",
       "self-employed    0.034908\n",
       "housemaid        0.026328\n",
       "unemployed       0.024921\n",
       "student          0.021170\n",
       "Name: proportion, dtype: float64"
      ]
     },
     "metadata": {},
     "output_type": "display_data"
    },
    {
     "name": "stdout",
     "output_type": "stream",
     "text": [
      "    Describe\n"
     ]
    },
    {
     "data": {
      "text/plain": [
       "count      42655\n",
       "unique        11\n",
       "top       admin.\n",
       "freq       10873\n",
       "Name: job, dtype: object"
      ]
     },
     "metadata": {},
     "output_type": "display_data"
    },
    {
     "name": "stdout",
     "output_type": "stream",
     "text": [
      "----------------\n",
      "Distribución de la columna MARITAL\n",
      "    4 valores únicos\n"
     ]
    },
    {
     "data": {
      "text/plain": [
       "marital\n",
       "married     0.605825\n",
       "single      0.282069\n",
       "divorced    0.112105\n",
       "Name: proportion, dtype: float64"
      ]
     },
     "metadata": {},
     "output_type": "display_data"
    },
    {
     "name": "stdout",
     "output_type": "stream",
     "text": [
      "    Describe\n"
     ]
    },
    {
     "data": {
      "text/plain": [
       "count       42915\n",
       "unique          3\n",
       "top       married\n",
       "freq        25999\n",
       "Name: marital, dtype: object"
      ]
     },
     "metadata": {},
     "output_type": "display_data"
    },
    {
     "name": "stdout",
     "output_type": "stream",
     "text": [
      "----------------\n",
      "Distribución de la columna EDUCATION\n",
      "    8 valores únicos\n"
     ]
    },
    {
     "data": {
      "text/plain": [
       "education\n",
       "university.degree      0.308839\n",
       "high.school            0.240939\n",
       "basic.9y               0.153157\n",
       "professional.course    0.132959\n",
       "basic.4y               0.105746\n",
       "basic.6y               0.057922\n",
       "illiterate             0.000437\n",
       "Name: proportion, dtype: float64"
      ]
     },
     "metadata": {},
     "output_type": "display_data"
    },
    {
     "name": "stdout",
     "output_type": "stream",
     "text": [
      "    Describe\n"
     ]
    },
    {
     "data": {
      "text/plain": [
       "count                 41193\n",
       "unique                    7\n",
       "top       university.degree\n",
       "freq                  12722\n",
       "Name: education, dtype: object"
      ]
     },
     "metadata": {},
     "output_type": "display_data"
    },
    {
     "name": "stdout",
     "output_type": "stream",
     "text": [
      "----------------\n",
      "Distribución de la columna DEFAULT\n",
      "    3 valores únicos\n"
     ]
    },
    {
     "data": {
      "text/plain": [
       "default\n",
       "no     0.999912\n",
       "yes    0.000088\n",
       "Name: proportion, dtype: float64"
      ]
     },
     "metadata": {},
     "output_type": "display_data"
    },
    {
     "name": "stdout",
     "output_type": "stream",
     "text": [
      "    Describe\n"
     ]
    },
    {
     "data": {
      "text/plain": [
       "count     34019\n",
       "unique        2\n",
       "top          no\n",
       "freq      34016\n",
       "Name: default, dtype: object"
      ]
     },
     "metadata": {},
     "output_type": "display_data"
    },
    {
     "name": "stdout",
     "output_type": "stream",
     "text": [
      "----------------\n",
      "Distribución de la columna HOUSING\n",
      "    3 valores únicos\n"
     ]
    },
    {
     "data": {
      "text/plain": [
       "housing\n",
       "yes    0.535998\n",
       "no     0.464002\n",
       "Name: proportion, dtype: float64"
      ]
     },
     "metadata": {},
     "output_type": "display_data"
    },
    {
     "name": "stdout",
     "output_type": "stream",
     "text": [
      "    Describe\n"
     ]
    },
    {
     "data": {
      "text/plain": [
       "count     41974\n",
       "unique        2\n",
       "top         yes\n",
       "freq      22498\n",
       "Name: housing, dtype: object"
      ]
     },
     "metadata": {},
     "output_type": "display_data"
    },
    {
     "name": "stdout",
     "output_type": "stream",
     "text": [
      "----------------\n",
      "Distribución de la columna LOAN\n",
      "    3 valores únicos\n"
     ]
    },
    {
     "data": {
      "text/plain": [
       "loan\n",
       "no     0.84438\n",
       "yes    0.15562\n",
       "Name: proportion, dtype: float64"
      ]
     },
     "metadata": {},
     "output_type": "display_data"
    },
    {
     "name": "stdout",
     "output_type": "stream",
     "text": [
      "    Describe\n"
     ]
    },
    {
     "data": {
      "text/plain": [
       "count     41974\n",
       "unique        2\n",
       "top          no\n",
       "freq      35442\n",
       "Name: loan, dtype: object"
      ]
     },
     "metadata": {},
     "output_type": "display_data"
    },
    {
     "name": "stdout",
     "output_type": "stream",
     "text": [
      "----------------\n",
      "Distribución de la columna CONTACT\n",
      "    2 valores únicos\n"
     ]
    },
    {
     "data": {
      "text/plain": [
       "contact\n",
       "cellular     0.637116\n",
       "telephone    0.362884\n",
       "Name: proportion, dtype: float64"
      ]
     },
     "metadata": {},
     "output_type": "display_data"
    },
    {
     "name": "stdout",
     "output_type": "stream",
     "text": [
      "    Describe\n"
     ]
    },
    {
     "data": {
      "text/plain": [
       "count        43000\n",
       "unique           2\n",
       "top       cellular\n",
       "freq         27396\n",
       "Name: contact, dtype: object"
      ]
     },
     "metadata": {},
     "output_type": "display_data"
    },
    {
     "name": "stdout",
     "output_type": "stream",
     "text": [
      "----------------\n",
      "Distribución de la columna POUTCOME\n",
      "    3 valores únicos\n"
     ]
    },
    {
     "data": {
      "text/plain": [
       "poutcome\n",
       "nonexistent    0.862860\n",
       "failure        0.103744\n",
       "success        0.033395\n",
       "Name: proportion, dtype: float64"
      ]
     },
     "metadata": {},
     "output_type": "display_data"
    },
    {
     "name": "stdout",
     "output_type": "stream",
     "text": [
      "    Describe\n"
     ]
    },
    {
     "data": {
      "text/plain": [
       "count           43000\n",
       "unique              3\n",
       "top       nonexistent\n",
       "freq            37103\n",
       "Name: poutcome, dtype: object"
      ]
     },
     "metadata": {},
     "output_type": "display_data"
    },
    {
     "name": "stdout",
     "output_type": "stream",
     "text": [
      "----------------\n",
      "Distribución de la columna Y\n",
      "    2 valores únicos\n"
     ]
    },
    {
     "data": {
      "text/plain": [
       "y\n",
       "no     0.887349\n",
       "yes    0.112651\n",
       "Name: proportion, dtype: float64"
      ]
     },
     "metadata": {},
     "output_type": "display_data"
    },
    {
     "name": "stdout",
     "output_type": "stream",
     "text": [
      "    Describe\n"
     ]
    },
    {
     "data": {
      "text/plain": [
       "count     43000\n",
       "unique        2\n",
       "top          no\n",
       "freq      38156\n",
       "Name: y, dtype: object"
      ]
     },
     "metadata": {},
     "output_type": "display_data"
    },
    {
     "name": "stdout",
     "output_type": "stream",
     "text": [
      "----------------\n",
      "Distribución de la columna ID\n",
      "    43000 valores únicos\n"
     ]
    },
    {
     "data": {
      "text/plain": [
       "id\n",
       "993bbbd6-4dbc-4a40-a408-f91f8462bee6    0.000023\n",
       "089b39d8-e4d0-461b-87d4-814d71e0e079    0.000023\n",
       "e9d37224-cb6f-4942-98d7-46672963d097    0.000023\n",
       "3f9f49b5-e410-4948-bf6e-f9244f04918b    0.000023\n",
       "9991fafb-4447-451a-8be2-b0df6098d13e    0.000023\n",
       "                                          ...   \n",
       "66a752e2-b2f1-440c-9a8f-cc3b10d74dd0    0.000023\n",
       "ca5c0d7a-8bbd-42b3-8351-1074c5be011a    0.000023\n",
       "8d700df5-0c33-4517-8cf8-92e1c92c9c12    0.000023\n",
       "ea6b7d04-9271-4c0a-a01f-07795d164aba    0.000023\n",
       "87b79988-2be5-419d-88f4-56655852c565    0.000023\n",
       "Name: proportion, Length: 43000, dtype: float64"
      ]
     },
     "metadata": {},
     "output_type": "display_data"
    },
    {
     "name": "stdout",
     "output_type": "stream",
     "text": [
      "    Describe\n"
     ]
    },
    {
     "data": {
      "text/plain": [
       "count                                    43000\n",
       "unique                                   43000\n",
       "top       993bbbd6-4dbc-4a40-a408-f91f8462bee6\n",
       "freq                                         1\n",
       "Name: id, dtype: object"
      ]
     },
     "metadata": {},
     "output_type": "display_data"
    },
    {
     "name": "stdout",
     "output_type": "stream",
     "text": [
      "----------------\n",
      "Distribución de la columna DAY_BANK\n",
      "    8 valores únicos\n"
     ]
    },
    {
     "data": {
      "text/plain": [
       "day_bank\n",
       "friday       0.145303\n",
       "thursday     0.144976\n",
       "sunday       0.143830\n",
       "saturday     0.143783\n",
       "monday       0.141163\n",
       "tuesday      0.141093\n",
       "wednesday    0.139853\n",
       "Name: proportion, dtype: float64"
      ]
     },
     "metadata": {},
     "output_type": "display_data"
    },
    {
     "name": "stdout",
     "output_type": "stream",
     "text": [
      "    Describe\n"
     ]
    },
    {
     "data": {
      "text/plain": [
       "count      42752\n",
       "unique         7\n",
       "top       friday\n",
       "freq        6212\n",
       "Name: day_bank, dtype: object"
      ]
     },
     "metadata": {},
     "output_type": "display_data"
    },
    {
     "name": "stdout",
     "output_type": "stream",
     "text": [
      "----------------\n",
      "Distribución de la columna DAY_CUSTOMER\n",
      "    7 valores únicos\n"
     ]
    },
    {
     "data": {
      "text/plain": [
       "day_customer\n",
       "monday       0.144512\n",
       "sunday       0.144488\n",
       "wednesday    0.144256\n",
       "tuesday      0.142605\n",
       "friday       0.142326\n",
       "saturday     0.141163\n",
       "thursday     0.140651\n",
       "Name: proportion, dtype: float64"
      ]
     },
     "metadata": {},
     "output_type": "display_data"
    },
    {
     "name": "stdout",
     "output_type": "stream",
     "text": [
      "    Describe\n"
     ]
    },
    {
     "data": {
      "text/plain": [
       "count      43000\n",
       "unique         7\n",
       "top       monday\n",
       "freq        6214\n",
       "Name: day_customer, dtype: object"
      ]
     },
     "metadata": {},
     "output_type": "display_data"
    },
    {
     "name": "stdout",
     "output_type": "stream",
     "text": [
      "----------------\n"
     ]
    }
   ],
   "source": [
    "an.analisis_general_categoricas(df)"
   ]
  },
  {
   "cell_type": "code",
   "execution_count": 5,
   "id": "abdc1750",
   "metadata": {},
   "outputs": [
    {
     "data": {
      "image/png": "[encoded data removed]",
      "text/plain": [
       "<Figure size 1500x2500 with 14 Axes>"
      ]
     },
     "metadata": {},
     "output_type": "display_data"
    }
   ],
   "source": [
    "# Vemos los subplots de las categóricas\n",
    "vis.subplot_col_cat(df)"
   ]
  },
  {
   "cell_type": "markdown",
   "id": "fad46436",
   "metadata": {},
   "source": [
    "## Gestión de nulos de categóricas"
   ]
  },
  {
   "cell_type": "code",
   "execution_count": 37,
   "id": "81c69fd4",
   "metadata": {},
   "outputs": [
    {
     "name": "stdout",
     "output_type": "stream",
     "text": [
      "<class 'pandas.core.frame.DataFrame'>\n",
      "RangeIndex: 43000 entries, 0 to 42999\n",
      "Data columns (total 12 columns):\n",
      " #   Column        Non-Null Count  Dtype \n",
      "---  ------        --------------  ----- \n",
      " 0   job           42655 non-null  object\n",
      " 1   marital       42915 non-null  object\n",
      " 2   education     41193 non-null  object\n",
      " 3   default       34019 non-null  object\n",
      " 4   housing       41974 non-null  object\n",
      " 5   loan          41974 non-null  object\n",
      " 6   contact       43000 non-null  object\n",
      " 7   poutcome      43000 non-null  object\n",
      " 8   y             43000 non-null  object\n",
      " 9   id            43000 non-null  object\n",
      " 10  day_bank      42752 non-null  object\n",
      " 11  day_customer  43000 non-null  object\n",
      "dtypes: object(12)\n",
      "memory usage: 3.9+ MB\n"
     ]
    }
   ],
   "source": [
    "df_cat = df[df.select_dtypes(include='O').columns].copy()\n",
    "df_cat.info()"
   ]
  },
  {
   "cell_type": "code",
   "execution_count": 38,
   "id": "abe43ddd",
   "metadata": {},
   "outputs": [
    {
     "data": {
      "text/plain": [
       "job              0.802326\n",
       "marital          0.197674\n",
       "education        4.202326\n",
       "default         20.886047\n",
       "housing          2.386047\n",
       "loan             2.386047\n",
       "contact          0.000000\n",
       "poutcome         0.000000\n",
       "y                0.000000\n",
       "id               0.000000\n",
       "day_bank         0.576744\n",
       "day_customer     0.000000\n",
       "dtype: float64"
      ]
     },
     "execution_count": 38,
     "metadata": {},
     "output_type": "execute_result"
    }
   ],
   "source": [
    "an.calcular_nulos(df_cat)[1]"
   ]
  },
  {
   "cell_type": "markdown",
   "id": "62a22773",
   "metadata": {},
   "source": [
    "Vemos que no tenemos ninguna columna con una cantidad de nulos por encima del 50%. Vamos a gestionar los nulos rellenando esos valores."
   ]
  },
  {
   "cell_type": "code",
   "execution_count": 10,
   "id": "cad68a25",
   "metadata": {},
   "outputs": [
    {
     "name": "stdout",
     "output_type": "stream",
     "text": [
      "Distribución de la columna JOB\n",
      "    12 valores únicos\n"
     ]
    },
    {
     "data": {
      "text/plain": [
       "job\n",
       "admin.           0.254906\n",
       "blue-collar      0.226328\n",
       "technician       0.164717\n",
       "services         0.097574\n",
       "management       0.071504\n",
       "retired          0.041965\n",
       "entrepreneur     0.035682\n",
       "self-employed    0.034908\n",
       "housemaid        0.026328\n",
       "unemployed       0.024921\n",
       "student          0.021170\n",
       "Name: proportion, dtype: float64"
      ]
     },
     "metadata": {},
     "output_type": "display_data"
    },
    {
     "name": "stdout",
     "output_type": "stream",
     "text": [
      "    Describe\n"
     ]
    },
    {
     "data": {
      "text/plain": [
       "count      42655\n",
       "unique        11\n",
       "top       admin.\n",
       "freq       10873\n",
       "Name: job, dtype: object"
      ]
     },
     "metadata": {},
     "output_type": "display_data"
    },
    {
     "name": "stdout",
     "output_type": "stream",
     "text": [
      "----------------\n",
      "Distribución de la columna MARITAL\n",
      "    4 valores únicos\n"
     ]
    },
    {
     "data": {
      "text/plain": [
       "marital\n",
       "married     0.605825\n",
       "single      0.282069\n",
       "divorced    0.112105\n",
       "Name: proportion, dtype: float64"
      ]
     },
     "metadata": {},
     "output_type": "display_data"
    },
    {
     "name": "stdout",
     "output_type": "stream",
     "text": [
      "    Describe\n"
     ]
    },
    {
     "data": {
      "text/plain": [
       "count       42915\n",
       "unique          3\n",
       "top       married\n",
       "freq        25999\n",
       "Name: marital, dtype: object"
      ]
     },
     "metadata": {},
     "output_type": "display_data"
    },
    {
     "name": "stdout",
     "output_type": "stream",
     "text": [
      "----------------\n",
      "Distribución de la columna EDUCATION\n",
      "    8 valores únicos\n"
     ]
    },
    {
     "data": {
      "text/plain": [
       "education\n",
       "university.degree      0.308839\n",
       "high.school            0.240939\n",
       "basic.9y               0.153157\n",
       "professional.course    0.132959\n",
       "basic.4y               0.105746\n",
       "basic.6y               0.057922\n",
       "illiterate             0.000437\n",
       "Name: proportion, dtype: float64"
      ]
     },
     "metadata": {},
     "output_type": "display_data"
    },
    {
     "name": "stdout",
     "output_type": "stream",
     "text": [
      "    Describe\n"
     ]
    },
    {
     "data": {
      "text/plain": [
       "count                 41193\n",
       "unique                    7\n",
       "top       university.degree\n",
       "freq                  12722\n",
       "Name: education, dtype: object"
      ]
     },
     "metadata": {},
     "output_type": "display_data"
    },
    {
     "name": "stdout",
     "output_type": "stream",
     "text": [
      "----------------\n",
      "Distribución de la columna DEFAULT\n",
      "    3 valores únicos\n"
     ]
    },
    {
     "data": {
      "text/plain": [
       "default\n",
       "no     0.999912\n",
       "yes    0.000088\n",
       "Name: proportion, dtype: float64"
      ]
     },
     "metadata": {},
     "output_type": "display_data"
    },
    {
     "name": "stdout",
     "output_type": "stream",
     "text": [
      "    Describe\n"
     ]
    },
    {
     "data": {
      "text/plain": [
       "count     34019\n",
       "unique        2\n",
       "top          no\n",
       "freq      34016\n",
       "Name: default, dtype: object"
      ]
     },
     "metadata": {},
     "output_type": "display_data"
    },
    {
     "name": "stdout",
     "output_type": "stream",
     "text": [
      "----------------\n",
      "Distribución de la columna HOUSING\n",
      "    3 valores únicos\n"
     ]
    },
    {
     "data": {
      "text/plain": [
       "housing\n",
       "yes    0.535998\n",
       "no     0.464002\n",
       "Name: proportion, dtype: float64"
      ]
     },
     "metadata": {},
     "output_type": "display_data"
    },
    {
     "name": "stdout",
     "output_type": "stream",
     "text": [
      "    Describe\n"
     ]
    },
    {
     "data": {
      "text/plain": [
       "count     41974\n",
       "unique        2\n",
       "top         yes\n",
       "freq      22498\n",
       "Name: housing, dtype: object"
      ]
     },
     "metadata": {},
     "output_type": "display_data"
    },
    {
     "name": "stdout",
     "output_type": "stream",
     "text": [
      "----------------\n",
      "Distribución de la columna LOAN\n",
      "    3 valores únicos\n"
     ]
    },
    {
     "data": {
      "text/plain": [
       "loan\n",
       "no     0.84438\n",
       "yes    0.15562\n",
       "Name: proportion, dtype: float64"
      ]
     },
     "metadata": {},
     "output_type": "display_data"
    },
    {
     "name": "stdout",
     "output_type": "stream",
     "text": [
      "    Describe\n"
     ]
    },
    {
     "data": {
      "text/plain": [
       "count     41974\n",
       "unique        2\n",
       "top          no\n",
       "freq      35442\n",
       "Name: loan, dtype: object"
      ]
     },
     "metadata": {},
     "output_type": "display_data"
    },
    {
     "name": "stdout",
     "output_type": "stream",
     "text": [
      "----------------\n",
      "Distribución de la columna CONTACT\n",
      "    2 valores únicos\n"
     ]
    },
    {
     "data": {
      "text/plain": [
       "contact\n",
       "cellular     0.637116\n",
       "telephone    0.362884\n",
       "Name: proportion, dtype: float64"
      ]
     },
     "metadata": {},
     "output_type": "display_data"
    },
    {
     "name": "stdout",
     "output_type": "stream",
     "text": [
      "    Describe\n"
     ]
    },
    {
     "data": {
      "text/plain": [
       "count        43000\n",
       "unique           2\n",
       "top       cellular\n",
       "freq         27396\n",
       "Name: contact, dtype: object"
      ]
     },
     "metadata": {},
     "output_type": "display_data"
    },
    {
     "name": "stdout",
     "output_type": "stream",
     "text": [
      "----------------\n",
      "Distribución de la columna POUTCOME\n",
      "    3 valores únicos\n"
     ]
    },
    {
     "data": {
      "text/plain": [
       "poutcome\n",
       "nonexistent    0.862860\n",
       "failure        0.103744\n",
       "success        0.033395\n",
       "Name: proportion, dtype: float64"
      ]
     },
     "metadata": {},
     "output_type": "display_data"
    },
    {
     "name": "stdout",
     "output_type": "stream",
     "text": [
      "    Describe\n"
     ]
    },
    {
     "data": {
      "text/plain": [
       "count           43000\n",
       "unique              3\n",
       "top       nonexistent\n",
       "freq            37103\n",
       "Name: poutcome, dtype: object"
      ]
     },
     "metadata": {},
     "output_type": "display_data"
    },
    {
     "name": "stdout",
     "output_type": "stream",
     "text": [
      "----------------\n",
      "Distribución de la columna Y\n",
      "    2 valores únicos\n"
     ]
    },
    {
     "data": {
      "text/plain": [
       "y\n",
       "no     0.887349\n",
       "yes    0.112651\n",
       "Name: proportion, dtype: float64"
      ]
     },
     "metadata": {},
     "output_type": "display_data"
    },
    {
     "name": "stdout",
     "output_type": "stream",
     "text": [
      "    Describe\n"
     ]
    },
    {
     "data": {
      "text/plain": [
       "count     43000\n",
       "unique        2\n",
       "top          no\n",
       "freq      38156\n",
       "Name: y, dtype: object"
      ]
     },
     "metadata": {},
     "output_type": "display_data"
    },
    {
     "name": "stdout",
     "output_type": "stream",
     "text": [
      "----------------\n",
      "Distribución de la columna ID\n",
      "    43000 valores únicos\n"
     ]
    },
    {
     "data": {
      "text/plain": [
       "id\n",
       "993bbbd6-4dbc-4a40-a408-f91f8462bee6    0.000023\n",
       "089b39d8-e4d0-461b-87d4-814d71e0e079    0.000023\n",
       "e9d37224-cb6f-4942-98d7-46672963d097    0.000023\n",
       "3f9f49b5-e410-4948-bf6e-f9244f04918b    0.000023\n",
       "9991fafb-4447-451a-8be2-b0df6098d13e    0.000023\n",
       "                                          ...   \n",
       "66a752e2-b2f1-440c-9a8f-cc3b10d74dd0    0.000023\n",
       "ca5c0d7a-8bbd-42b3-8351-1074c5be011a    0.000023\n",
       "8d700df5-0c33-4517-8cf8-92e1c92c9c12    0.000023\n",
       "ea6b7d04-9271-4c0a-a01f-07795d164aba    0.000023\n",
       "87b79988-2be5-419d-88f4-56655852c565    0.000023\n",
       "Name: proportion, Length: 43000, dtype: float64"
      ]
     },
     "metadata": {},
     "output_type": "display_data"
    },
    {
     "name": "stdout",
     "output_type": "stream",
     "text": [
      "    Describe\n"
     ]
    },
    {
     "data": {
      "text/plain": [
       "count                                    43000\n",
       "unique                                   43000\n",
       "top       993bbbd6-4dbc-4a40-a408-f91f8462bee6\n",
       "freq                                         1\n",
       "Name: id, dtype: object"
      ]
     },
     "metadata": {},
     "output_type": "display_data"
    },
    {
     "name": "stdout",
     "output_type": "stream",
     "text": [
      "----------------\n",
      "Distribución de la columna DAY_BANK\n",
      "    8 valores únicos\n"
     ]
    },
    {
     "data": {
      "text/plain": [
       "day_bank\n",
       "friday       0.145303\n",
       "thursday     0.144976\n",
       "sunday       0.143830\n",
       "saturday     0.143783\n",
       "monday       0.141163\n",
       "tuesday      0.141093\n",
       "wednesday    0.139853\n",
       "Name: proportion, dtype: float64"
      ]
     },
     "metadata": {},
     "output_type": "display_data"
    },
    {
     "name": "stdout",
     "output_type": "stream",
     "text": [
      "    Describe\n"
     ]
    },
    {
     "data": {
      "text/plain": [
       "count      42752\n",
       "unique         7\n",
       "top       friday\n",
       "freq        6212\n",
       "Name: day_bank, dtype: object"
      ]
     },
     "metadata": {},
     "output_type": "display_data"
    },
    {
     "name": "stdout",
     "output_type": "stream",
     "text": [
      "----------------\n",
      "Distribución de la columna DAY_CUSTOMER\n",
      "    7 valores únicos\n"
     ]
    },
    {
     "data": {
      "text/plain": [
       "day_customer\n",
       "monday       0.144512\n",
       "sunday       0.144488\n",
       "wednesday    0.144256\n",
       "tuesday      0.142605\n",
       "friday       0.142326\n",
       "saturday     0.141163\n",
       "thursday     0.140651\n",
       "Name: proportion, dtype: float64"
      ]
     },
     "metadata": {},
     "output_type": "display_data"
    },
    {
     "name": "stdout",
     "output_type": "stream",
     "text": [
      "    Describe\n"
     ]
    },
    {
     "data": {
      "text/plain": [
       "count      43000\n",
       "unique         7\n",
       "top       monday\n",
       "freq        6214\n",
       "Name: day_customer, dtype: object"
      ]
     },
     "metadata": {},
     "output_type": "display_data"
    },
    {
     "name": "stdout",
     "output_type": "stream",
     "text": [
      "----------------\n"
     ]
    }
   ],
   "source": [
    "#Tenemos que elegir con que valores rellenamos\n",
    "an.analisis_general_categoricas(df_cat)"
   ]
  },
  {
   "cell_type": "markdown",
   "id": "335a79ae",
   "metadata": {},
   "source": [
    "Analizamos las columnas default y loan.\n",
    "La columna default, tiene un 0.999912 con valores 'no' y un 0.000088 con valores 'yes'. Al tener un 20.88% de valores nulos, decidimos que ese valor es muy alto y rellenaremos con 'unknow'\n",
    "La columna loan, tiene un 0.84438 con valores 'no' y un 0.15562 con valores 'yes'. Su porcentaje de nulos es de 2.38%, en esta columna si que vamos a rellenar lo valores nulos con 'no'"
   ]
  },
  {
   "cell_type": "code",
   "execution_count": 26,
   "id": "3a9b0f39",
   "metadata": {},
   "outputs": [],
   "source": [
    "df_cat[\"loan\"] = df_cat[\"loan\"].fillna(df_cat[\"loan\"].mode()[0])"
   ]
  },
  {
   "cell_type": "markdown",
   "id": "7c6a9e58",
   "metadata": {},
   "source": [
    "Para el resto de columnas, rellenamos con \"unknown\""
   ]
  },
  {
   "cell_type": "code",
   "execution_count": null,
   "id": "9469f554",
   "metadata": {},
   "outputs": [],
   "source": [
    "df_cat = df_cat.fillna(\"unkown\")"
   ]
  },
  {
   "cell_type": "code",
   "execution_count": 28,
   "id": "7b14ebfe",
   "metadata": {},
   "outputs": [],
   "source": [
    "df[df.select_dtypes(include='O').columns] = df_cat"
   ]
  },
  {
   "cell_type": "code",
   "execution_count": 31,
   "id": "bd1ed61f",
   "metadata": {},
   "outputs": [
    {
     "data": {
      "text/plain": [
       "(age                  5120\n",
       " job                     0\n",
       " marital                 0\n",
       " education               0\n",
       " default                 0\n",
       " housing                 0\n",
       " loan                    0\n",
       " contact                 0\n",
       " duration                0\n",
       " campaign                0\n",
       " pdays                   0\n",
       " previous                0\n",
       " poutcome                0\n",
       " emp_var_rate            0\n",
       " cons_price_idx        471\n",
       " cons_conf_idx           0\n",
       " euribor3m            9256\n",
       " nr_employed             0\n",
       " y                       0\n",
       " date                  248\n",
       " latitude                0\n",
       " longitude               0\n",
       " id                      0\n",
       " income                  0\n",
       " kidhome                 0\n",
       " teenhome                0\n",
       " dt_customer             0\n",
       " numwebvisitsmonth       0\n",
       " year_bank             248\n",
       " month_bank            248\n",
       " day_bank                0\n",
       " year_customer           0\n",
       " month_customer          0\n",
       " day_customer            0\n",
       " dtype: int64,\n",
       " age                  11.906977\n",
       " job                   0.000000\n",
       " marital               0.000000\n",
       " education             0.000000\n",
       " default               0.000000\n",
       " housing               0.000000\n",
       " loan                  0.000000\n",
       " contact               0.000000\n",
       " duration              0.000000\n",
       " campaign              0.000000\n",
       " pdays                 0.000000\n",
       " previous              0.000000\n",
       " poutcome              0.000000\n",
       " emp_var_rate          0.000000\n",
       " cons_price_idx        1.095349\n",
       " cons_conf_idx         0.000000\n",
       " euribor3m            21.525581\n",
       " nr_employed           0.000000\n",
       " y                     0.000000\n",
       " date                  0.576744\n",
       " latitude              0.000000\n",
       " longitude             0.000000\n",
       " id                    0.000000\n",
       " income                0.000000\n",
       " kidhome               0.000000\n",
       " teenhome              0.000000\n",
       " dt_customer           0.000000\n",
       " numwebvisitsmonth     0.000000\n",
       " year_bank             0.576744\n",
       " month_bank            0.576744\n",
       " day_bank              0.000000\n",
       " year_customer         0.000000\n",
       " month_customer        0.000000\n",
       " day_customer          0.000000\n",
       " dtype: float64)"
      ]
     },
     "execution_count": 31,
     "metadata": {},
     "output_type": "execute_result"
    }
   ],
   "source": [
    "an.calcular_nulos(df)"
   ]
  },
  {
   "cell_type": "code",
   "execution_count": null,
   "id": "958991d2",
   "metadata": {},
   "outputs": [],
   "source": [
    "df.to_csv(\"../data/bank-customers.csv\", index=False)"
   ]
  }
 ],
 "metadata": {
  "kernelspec": {
   "display_name": "venv",
   "language": "python",
   "name": "python3"
  },
  "language_info": {
   "codemirror_mode": {
    "name": "ipython",
    "version": 3
   },
   "file_extension": ".py",
   "mimetype": "text/x-python",
   "name": "python",
   "nbconvert_exporter": "python",
   "pygments_lexer": "ipython3",
   "version": "3.11.9"
  }
 },
 "nbformat": 4,
 "nbformat_minor": 5
}
